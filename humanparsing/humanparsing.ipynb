{
 "cells": [
  {
   "cell_type": "code",
   "execution_count": 1,
   "id": "1ccee142-d17a-480a-9cec-f71e29c48344",
   "metadata": {},
   "outputs": [],
   "source": [
    "import os\n",
    "import math\n",
    "\n",
    "import cv2\n",
    "import numpy as np\n",
    "import paddle\n",
    "\n",
    "from paddleseg import utils\n",
    "from paddleseg.core import infer\n",
    "from paddleseg.utils import logger, progbar, visualize, get_image_list\n",
    "from paddleseg.cvlibs import manager\n",
    "from paddleseg.transforms import Compose"
   ]
  },
  {
   "cell_type": "code",
   "execution_count": 2,
   "id": "6b8feb26-d915-47f7-a857-d01828e64581",
   "metadata": {},
   "outputs": [
    {
     "name": "stderr",
     "output_type": "stream",
     "text": [
      "W0308 17:34:29.559701  8275 device_context.cc:447] Please NOTE: device: 0, GPU Compute Capability: 7.5, Driver API Version: 11.2, Runtime API Version: 11.2\n",
      "W0308 17:34:29.562285  8275 device_context.cc:465] device: 0, cuDNN Version: 7.6.\n",
      "W0308 17:34:30.524646  8275 device_context.h:397] WARNING: device: 0. The installed Paddle is compiled with CUDNN 8.1, but CUDNN version in your machine is 7.6, which may cause serious incompatible bug. Please recompile or reinstall Paddle with compatible CUDNN version.\n"
     ]
    }
   ],
   "source": [
    "model = manager.MODELS.components_dict['SegFormer_B5'](num_classes=20)\n",
    "model_path = './best_model/model.pdparams'"
   ]
  },
  {
   "cell_type": "code",
   "execution_count": 3,
   "id": "0732d926-f1fe-4b15-9043-66bb6009112d",
   "metadata": {},
   "outputs": [
    {
     "data": {
      "text/plain": [
       "<paddleseg.transforms.transforms.Compose at 0x7f16d507b790>"
      ]
     },
     "execution_count": 3,
     "metadata": {},
     "output_type": "execute_result"
    }
   ],
   "source": [
    "transforms = Compose([manager.TRANSFORMS['Normalize']()])\n",
    "transforms"
   ]
  },
  {
   "cell_type": "code",
   "execution_count": 4,
   "id": "c2f31af5-aed1-40de-add7-54a78978bddb",
   "metadata": {},
   "outputs": [],
   "source": [
    "image_list, image_dir = get_image_list('../datasets/test/image/')"
   ]
  },
  {
   "cell_type": "code",
   "execution_count": 5,
   "id": "187bb1b8-d45e-4361-aabc-f63b866dd177",
   "metadata": {},
   "outputs": [
    {
     "data": {
      "text/plain": [
       "(['../datasets/test/image/08909_00.jpg', '../datasets/test/image/m_00002.jpg'],\n",
       " '../datasets/test/image/')"
      ]
     },
     "execution_count": 5,
     "metadata": {},
     "output_type": "execute_result"
    }
   ],
   "source": [
    "image_list, image_dir"
   ]
  },
  {
   "cell_type": "code",
   "execution_count": 6,
   "id": "0de4d14a-5c70-46f9-9060-30c2a51d885d",
   "metadata": {},
   "outputs": [],
   "source": [
    "import pickle\n",
    "with open('../colormap.pkl', 'rb') as file:\n",
    "    color_map = pickle.load(file)"
   ]
  },
  {
   "cell_type": "code",
   "execution_count": 7,
   "id": "cbb5e7f6-07e1-4b1a-9dae-bf3f0eb2854f",
   "metadata": {},
   "outputs": [
    {
     "data": {
      "text/plain": [
       "['../datasets/test/image/08909_00.jpg', '../datasets/test/image/m_00002.jpg']"
      ]
     },
     "execution_count": 7,
     "metadata": {},
     "output_type": "execute_result"
    }
   ],
   "source": [
    "image_list"
   ]
  },
  {
   "cell_type": "code",
   "execution_count": 8,
   "id": "9fbee00a-4974-43c9-98fe-bda3e42458f3",
   "metadata": {},
   "outputs": [
    {
     "name": "stdout",
     "output_type": "stream",
     "text": [
      "2022-03-08 17:34:32 [INFO]\tLoading pretrained model from ./best_model/model.pdparams\n",
      "2022-03-08 17:34:32 [INFO]\tThere are 1067/1067 variables loaded into SegFormer.\n",
      "2022-03-08 17:34:32 [INFO]\tStart to predict...\n"
     ]
    },
    {
     "name": "stderr",
     "output_type": "stream",
     "text": [
      "2/2 [==============================] - 0s 232ms/step\n"
     ]
    }
   ],
   "source": [
    "# 高层 Paddleseg API\n",
    "from paddleseg.core import predict\n",
    "predict(model, \n",
    "        model_path=model_path, \n",
    "        transforms=transforms, \n",
    "        image_list=image_list, \n",
    "        image_dir=image_dir, \n",
    "        save_dir='output',\n",
    "        custom_color=color_map)"
   ]
  },
  {
   "cell_type": "code",
   "execution_count": 9,
   "id": "8100a68c-3ee1-4bd8-a2fc-5793cc4fbd54",
   "metadata": {},
   "outputs": [
    {
     "data": {
      "text/plain": [
       "['../datasets/test/image/08909_00.jpg', '../datasets/test/image/m_00002.jpg']"
      ]
     },
     "execution_count": 9,
     "metadata": {},
     "output_type": "execute_result"
    }
   ],
   "source": [
    "image_list"
   ]
  },
  {
   "cell_type": "code",
   "execution_count": 22,
   "id": "1a5c4f6d-dd3c-4c8b-80a0-beda2a73be35",
   "metadata": {},
   "outputs": [
    {
     "name": "stdout",
     "output_type": "stream",
     "text": [
      "2022-03-08 17:48:25 [INFO]\tLoading pretrained model from ./best_model/model.pdparams\n",
      "2022-03-08 17:48:25 [INFO]\tThere are 1067/1067 variables loaded into SegFormer.\n",
      "2022-03-08 17:48:25 [INFO]\tstart to predict...\n",
      "0 ../datasets/test/image/08909_00.jpg\n",
      "1 ../datasets/test/image/m_00002.jpg\n"
     ]
    }
   ],
   "source": [
    "from pathlib import Path\n",
    "from PIL import Image\n",
    "\n",
    "# 仅做 Inference\n",
    "utils.utils.load_entire_model(model, model_path)\n",
    "model.eval()\n",
    "\n",
    "progbar_pred = progbar.Progbar(target=len(image_list), verbose=1)\n",
    "\n",
    "out_img_dir = Path('./output/res')\n",
    "\n",
    "logger.info(\"start to predict...\")\n",
    "with paddle.no_grad():\n",
    "    for i, im_path in enumerate(image_list):\n",
    "        print(i, im_path)\n",
    "        im = cv2.imread(im_path)\n",
    "        ori_shape = im.shape[:2]\n",
    "        im, _ = transforms(im)\n",
    "        im = im[np.newaxis, ...]\n",
    "        im = paddle.to_tensor(im)\n",
    "        \n",
    "        pred, _ = infer.inference(model, \n",
    "                                  im, \n",
    "                                  ori_shape=ori_shape, \n",
    "                                  transforms=transforms.transforms, \n",
    "                                  is_slide=False, \n",
    "                                  stride=False, \n",
    "                                  crop_size=None)\n",
    "        pred = paddle.squeeze(pred)\n",
    "        pred = pred.numpy().astype('uint8')\n",
    "        \n",
    "        # 输出添加调色板信息的分割图\n",
    "        img_name = Path(im_path).stem\n",
    "        pred_mask = Image.fromarray(pred, mode='P')\n",
    "        pred_mask.putpalette(color_map)\n",
    "        out_img_dir.mkdir(parents=True, exist_ok=True)\n",
    "        pred_mask.save(f'{out_img_dir.joinpath(img_name)}.png')"
   ]
  },
  {
   "cell_type": "code",
   "execution_count": null,
   "id": "b82c55a0-df89-43ce-9842-b54a9bab4dcf",
   "metadata": {},
   "outputs": [],
   "source": []
  }
 ],
 "metadata": {
  "kernelspec": {
   "display_name": "Python 3 (ipykernel)",
   "language": "python",
   "name": "python3"
  },
  "language_info": {
   "codemirror_mode": {
    "name": "ipython",
    "version": 3
   },
   "file_extension": ".py",
   "mimetype": "text/x-python",
   "name": "python",
   "nbconvert_exporter": "python",
   "pygments_lexer": "ipython3",
   "version": "3.7.11"
  }
 },
 "nbformat": 4,
 "nbformat_minor": 5
}
