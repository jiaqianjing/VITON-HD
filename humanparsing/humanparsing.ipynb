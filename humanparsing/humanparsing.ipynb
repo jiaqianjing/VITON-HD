{
 "cells": [
  {
   "cell_type": "code",
   "execution_count": 14,
   "id": "1ccee142-d17a-480a-9cec-f71e29c48344",
   "metadata": {},
   "outputs": [],
   "source": [
    "import os\n",
    "import math\n",
    "\n",
    "import cv2\n",
    "import numpy as np\n",
    "import paddle\n",
    "\n",
    "from paddleseg import utils\n",
    "from paddleseg.core import infer\n",
    "from paddleseg.utils import logger, progbar, visualize, get_image_list\n",
    "from paddleseg.cvlibs import manager\n",
    "from paddleseg.transforms import Compose"
   ]
  },
  {
   "cell_type": "code",
   "execution_count": 22,
   "id": "6b8feb26-d915-47f7-a857-d01828e64581",
   "metadata": {},
   "outputs": [],
   "source": [
    "model = manager.MODELS.components_dict['SegFormer_B5'](num_classes=20)\n",
    "model_path = './best_model/model.pdparams'"
   ]
  },
  {
   "cell_type": "code",
   "execution_count": 23,
   "id": "0732d926-f1fe-4b15-9043-66bb6009112d",
   "metadata": {},
   "outputs": [
    {
     "data": {
      "text/plain": [
       "<paddleseg.transforms.transforms.Compose at 0x7f562c6e1d10>"
      ]
     },
     "execution_count": 23,
     "metadata": {},
     "output_type": "execute_result"
    }
   ],
   "source": [
    "transforms = Compose([manager.TRANSFORMS['Normalize']()])\n",
    "transforms"
   ]
  },
  {
   "cell_type": "code",
   "execution_count": 24,
   "id": "c2f31af5-aed1-40de-add7-54a78978bddb",
   "metadata": {},
   "outputs": [],
   "source": [
    "image_list, image_dir = get_image_list('../datasets/test/image/')"
   ]
  },
  {
   "cell_type": "code",
   "execution_count": 25,
   "id": "187bb1b8-d45e-4361-aabc-f63b866dd177",
   "metadata": {},
   "outputs": [
    {
     "data": {
      "text/plain": [
       "(['../datasets/test/image/08909_00.jpg', '../datasets/test/image/m_00002.jpg'],\n",
       " '../datasets/test/image/')"
      ]
     },
     "execution_count": 25,
     "metadata": {},
     "output_type": "execute_result"
    }
   ],
   "source": [
    "image_list, image_dir"
   ]
  },
  {
   "cell_type": "code",
   "execution_count": 39,
   "id": "0de4d14a-5c70-46f9-9060-30c2a51d885d",
   "metadata": {},
   "outputs": [],
   "source": [
    "import pickle\n",
    "with open('../colormap.pkl', 'rb') as file:\n",
    "    color_map = pickle.load(file)"
   ]
  },
  {
   "cell_type": "code",
   "execution_count": 41,
   "id": "9fbee00a-4974-43c9-98fe-bda3e42458f3",
   "metadata": {},
   "outputs": [
    {
     "name": "stdout",
     "output_type": "stream",
     "text": [
      "2022-03-08 14:51:54 [INFO]\tLoading pretrained model from ./best_model/model.pdparams\n",
      "2022-03-08 14:51:54 [INFO]\tThere are 1067/1067 variables loaded into SegFormer.\n",
      "2022-03-08 14:51:54 [INFO]\tStart to predict...\n"
     ]
    },
    {
     "name": "stderr",
     "output_type": "stream",
     "text": [
      "2/2 [==============================] - 0s 225ms/step\n"
     ]
    }
   ],
   "source": [
    "# 高层 Paddleseg API\n",
    "from paddleseg.core import predict\n",
    "predict(model, \n",
    "        model_path=model_path, \n",
    "        transforms=transforms, \n",
    "        image_list=image_list, \n",
    "        image_dir=image_dir, \n",
    "        save_dir='output',\n",
    "        custom_color=color_map)"
   ]
  },
  {
   "cell_type": "code",
   "execution_count": 28,
   "id": "1a5c4f6d-dd3c-4c8b-80a0-beda2a73be35",
   "metadata": {},
   "outputs": [
    {
     "name": "stdout",
     "output_type": "stream",
     "text": [
      "2022-03-08 14:48:48 [INFO]\tLoading pretrained model from ./best_model/model.pdparams\n",
      "2022-03-08 14:48:49 [INFO]\tThere are 1067/1067 variables loaded into SegFormer.\n"
     ]
    }
   ],
   "source": [
    "# 仅做 inference\n",
    "utils.utils.load_entire_model(model, model_path)\n",
    "model.eval()"
   ]
  },
  {
   "cell_type": "code",
   "execution_count": 30,
   "id": "4ecbaba8-f057-45b2-a443-23fd533fddb9",
   "metadata": {},
   "outputs": [
    {
     "name": "stdout",
     "output_type": "stream",
     "text": [
      "[['../datasets/test/image/08909_00.jpg', '../datasets/test/image/m_00002.jpg']]\n"
     ]
    }
   ],
   "source": [
    "img_lists = [image_list]\n",
    "print(img_lists)"
   ]
  },
  {
   "cell_type": "code",
   "execution_count": 34,
   "id": "dcd35fd9-a156-485f-bfed-71d206868518",
   "metadata": {},
   "outputs": [
    {
     "name": "stdout",
     "output_type": "stream",
     "text": [
      "2022-03-08 14:49:41 [INFO]\tstart to predict...\n",
      "<paddleseg.utils.progbar.Progbar object at 0x7f565c17ca10>\n"
     ]
    }
   ],
   "source": [
    "logger.info(\"start to predict...\")\n",
    "progbar_pred = progbar.Progbar(target=len(img_lists[0]), verbose=1)\n",
    "print(progbar_pred)"
   ]
  },
  {
   "cell_type": "code",
   "execution_count": null,
   "id": "d95ac840-d633-4a86-8d1e-54fa8f2f5ab3",
   "metadata": {},
   "outputs": [],
   "source": []
  }
 ],
 "metadata": {
  "kernelspec": {
   "display_name": "Python 3 (ipykernel)",
   "language": "python",
   "name": "python3"
  },
  "language_info": {
   "codemirror_mode": {
    "name": "ipython",
    "version": 3
   },
   "file_extension": ".py",
   "mimetype": "text/x-python",
   "name": "python",
   "nbconvert_exporter": "python",
   "pygments_lexer": "ipython3",
   "version": "3.7.11"
  }
 },
 "nbformat": 4,
 "nbformat_minor": 5
}
