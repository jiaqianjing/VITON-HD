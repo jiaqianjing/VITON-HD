{
 "cells": [
  {
   "cell_type": "code",
   "execution_count": 15,
   "id": "d2c3692c-fe8e-442c-a70a-c4d9189c7551",
   "metadata": {},
   "outputs": [
    {
     "name": "stdout",
     "output_type": "stream",
     "text": [
      "Cloning into 'U-2-Net'...\n",
      "remote: Enumerating objects: 822, done.\u001b[K\n",
      "remote: Counting objects: 100% (196/196), done.\u001b[K\n",
      "remote: Compressing objects: 100% (93/93), done.\u001b[K\n",
      "remote: Total 822 (delta 114), reused 170 (delta 101), pack-reused 626\u001b[K\n",
      "Receiving objects: 100% (822/822), 30.72 MiB | 6.18 MiB/s, done.\n",
      "Resolving deltas: 100% (374/374), done.\n",
      "Checking connectivity... done.\n"
     ]
    }
   ],
   "source": [
    "!git clone git@github.com:jiaqianjing/U-2-Net.git"
   ]
  },
  {
   "cell_type": "code",
   "execution_count": 1,
   "id": "a6e520d3-41ab-4c67-af28-5b2993ae352c",
   "metadata": {},
   "outputs": [
    {
     "name": "stdout",
     "output_type": "stream",
     "text": [
      "/home/jiaqianjing/workspace/search/gans/VITON-HD/U-2-Net\n",
      "mkdir: cannot create directory ‘saved_models’: File exists\n",
      "mkdir: cannot create directory ‘saved_models/u2net’: File exists\n",
      "mkdir: cannot create directory ‘saved_models/u2netp’: File exists\n",
      "...u2net.pth:  168.12 MiB / 168.12 MiB ┃▓▓▓▓▓▓▓▓▓▓▓▓▓▓▓▓▓▓▓▓▓▓▓▓┃ 68.65 MiB/s 2s\u001b[0m\u001b[0m\u001b[m\u001b[32;1m\u001b[m\u001b[32;1m\u001b[m\u001b[32;1m\u001b[m\u001b[32;1m\u001b[m\u001b[32;1m\u001b[m\u001b[32;1m\u001b[m\u001b[32;1m\u001b[m\u001b[32;1m\u001b[m\u001b[32;1m\u001b[m\u001b[32;1m\u001b[m\u001b[32;1m\u001b[m\u001b[32;1m\u001b[m\u001b[32;1m\u001b[m\u001b[32;1m\u001b[m\u001b[32;1m\u001b[m\u001b[32;1m\u001b[m\u001b[32;1m\u001b[m\u001b[32;1m\u001b[m\u001b[32;1m\u001b[m\u001b[32;1m\u001b[m\u001b[32;1m\u001b[m\u001b[32;1m\u001b[m\u001b[32;1m/home/jiaqianjing/workspace/search/gans/VITON-HD\n"
     ]
    }
   ],
   "source": [
    "%cd U-2-Net\n",
    "!mkdir saved_models\n",
    "!mkdir saved_models/u2net\n",
    "!mkdir saved_models/u2netp\n",
    "#!gdown --id 1rbSTGKAE-MTxBYHd-51l2hMOQPT_7EPy -O saved_models/u2netp/u2netp.pth\n",
    "!mc cp --recursive s3/jiaqianjing/ACGPN/u2netp.pth ./saved_models/u2netp/\n",
    "\n",
    "#!gdown --id 1ao1ovG1Qtx4b7EoskHXmi2E9rp5CHLcZ -O saved_models/u2net/u2net.pth\n",
    "!mc cp --recursive s3/jiaqianjing/ACGPN/u2net.pth ./saved_models/u2net/\n",
    "%cd .."
   ]
  },
  {
   "cell_type": "code",
   "execution_count": 1,
   "id": "c890ba0e-b9c4-4c69-9860-b23b0214248a",
   "metadata": {},
   "outputs": [
    {
     "name": "stdout",
     "output_type": "stream",
     "text": [
      "/home/jiaqianjing/workspace/search/gans/VITON-HD/U-2-Net\n",
      "...load U2NET---173.6 MB\n",
      "/home/jiaqianjing/workspace/search/gans/VITON-HD\n",
      "Generating mask for: 00001.jpg\n",
      "-----> (320, 320)\n",
      "-------- (320, 320)\n",
      "Saving output at ./datasets/test/cloth-mask/00001.jpg\n",
      "Generating mask for: 00002.jpg\n",
      "-----> (320, 320)\n",
      "-------- (320, 320)\n",
      "Saving output at ./datasets/test/cloth-mask/00002.jpg\n"
     ]
    }
   ],
   "source": [
    "# Genearate Cloth Mask\n",
    "%cd U-2-Net\n",
    "import u2net_load\n",
    "import u2net_run\n",
    "\n",
    "# u2net = u2net_load.model(model_name = 'u2netp')\n",
    "u2net = u2net_load.model(model_name = 'u2net') # 模型更大，效果更精细\n",
    "%cd ..\n",
    "\n",
    "u2net_run.infer(u2net, './datasets/test/cloth/', './datasets/test/cloth-mask')"
   ]
  },
  {
   "cell_type": "code",
   "execution_count": 2,
   "id": "4ab8cc6b-7166-4a23-9f53-679391633a00",
   "metadata": {},
   "outputs": [],
   "source": [
    "import cv2\n",
    "import os\n",
    "import numpy as np\n",
    "import matplotlib.pyplot as plt"
   ]
  },
  {
   "cell_type": "code",
   "execution_count": 6,
   "id": "a5bf2a73-baa8-4961-876d-f144218eb006",
   "metadata": {},
   "outputs": [
    {
     "name": "stdout",
     "output_type": "stream",
     "text": [
      "(932, 702)\n"
     ]
    },
    {
     "data": {
      "text/plain": [
       "<matplotlib.image.AxesImage at 0x7f2724070cd0>"
      ]
     },
     "execution_count": 6,
     "metadata": {},
     "output_type": "execute_result"
    },
    {
     "data": {
      "image/png": "[encoded data removed]",
      "text/plain": [
       "<Figure size 432x288 with 1 Axes>"
      ]
     },
     "metadata": {
      "needs_background": "light"
     },
     "output_type": "display_data"
    }
   ],
   "source": [
    "img_path = './datasets/test/cloth-mask/00002.jpg'\n",
    "img_01 = cv2.imread(img_path, cv2.IMREAD_GRAYSCALE)\n",
    "print(img_01.shape)\n",
    "plt.imshow(img_01)"
   ]
  },
  {
   "cell_type": "code",
   "execution_count": 7,
   "id": "3d31d891-182f-41d5-8b02-4750597f85ac",
   "metadata": {},
   "outputs": [
    {
     "name": "stdout",
     "output_type": "stream",
     "text": [
      "(932, 702, 3)\n",
      "(932, 702)\n"
     ]
    },
    {
     "data": {
      "text/plain": [
       "<matplotlib.image.AxesImage at 0x7f2720596b10>"
      ]
     },
     "execution_count": 7,
     "metadata": {},
     "output_type": "execute_result"
    },
    {
     "data": {
      "image/png": "[encoded data removed]",
      "text/plain": [
       "<Figure size 432x288 with 1 Axes>"
      ]
     },
     "metadata": {
      "needs_background": "light"
     },
     "output_type": "display_data"
    }
   ],
   "source": [
    "img = cv2.imread('./datasets/test/cloth-mask/00002.jpg')\n",
    "print(img.shape)\n",
    "img_gray = cv2.cvtColor(img, cv2.COLOR_BGR2GRAY)\n",
    "print(img_gray.shape)\n",
    "plt.imshow(img_gray)"
   ]
  },
  {
   "cell_type": "code",
   "execution_count": 8,
   "id": "b437bd40-2f0f-4aa3-a947-49537d3d260e",
   "metadata": {},
   "outputs": [
    {
     "data": {
      "text/plain": [
       "True"
      ]
     },
     "execution_count": 8,
     "metadata": {},
     "output_type": "execute_result"
    }
   ],
   "source": [
    "(img_01 == img_gray).reshape([-1]).all()"
   ]
  },
  {
   "cell_type": "code",
   "execution_count": null,
   "id": "8307e5fa-0383-485f-9e82-1c83d6728f6c",
   "metadata": {},
   "outputs": [],
   "source": []
  }
 ],
 "metadata": {
  "kernelspec": {
   "display_name": "Python 3 (ipykernel)",
   "language": "python",
   "name": "python3"
  },
  "language_info": {
   "codemirror_mode": {
    "name": "ipython",
    "version": 3
   },
   "file_extension": ".py",
   "mimetype": "text/x-python",
   "name": "python",
   "nbconvert_exporter": "python",
   "pygments_lexer": "ipython3",
   "version": "3.7.11"
  }
 },
 "nbformat": 4,
 "nbformat_minor": 5
}
